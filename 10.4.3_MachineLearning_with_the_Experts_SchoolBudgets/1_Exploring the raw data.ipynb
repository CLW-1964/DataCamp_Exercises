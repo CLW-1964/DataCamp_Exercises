{
 "cells": [
  {
   "cell_type": "code",
   "execution_count": 1,
   "metadata": {},
   "outputs": [],
   "source": [
    "# import libraries\n",
    "import pandas as pd\n",
    "import numpy as np\n",
    "import matplotlib.pyplot as plt\n",
    "import seaborn as sns"
   ]
  },
  {
   "cell_type": "code",
   "execution_count": 6,
   "metadata": {},
   "outputs": [
    {
     "data": {
      "text/html": [
       "<div>\n",
       "<style scoped>\n",
       "    .dataframe tbody tr th:only-of-type {\n",
       "        vertical-align: middle;\n",
       "    }\n",
       "\n",
       "    .dataframe tbody tr th {\n",
       "        vertical-align: top;\n",
       "    }\n",
       "\n",
       "    .dataframe thead th {\n",
       "        text-align: right;\n",
       "    }\n",
       "</style>\n",
       "<table border=\"1\" class=\"dataframe\">\n",
       "  <thead>\n",
       "    <tr style=\"text-align: right;\">\n",
       "      <th></th>\n",
       "      <th>Function</th>\n",
       "      <th>Use</th>\n",
       "      <th>Sharing</th>\n",
       "      <th>Reporting</th>\n",
       "      <th>Student_Type</th>\n",
       "      <th>Position_Type</th>\n",
       "      <th>Object_Type</th>\n",
       "      <th>Pre_K</th>\n",
       "      <th>Operating_Status</th>\n",
       "      <th>Object_Description</th>\n",
       "      <th>...</th>\n",
       "      <th>Sub_Object_Description</th>\n",
       "      <th>Location_Description</th>\n",
       "      <th>FTE</th>\n",
       "      <th>Function_Description</th>\n",
       "      <th>Facility_or_Department</th>\n",
       "      <th>Position_Extra</th>\n",
       "      <th>Total</th>\n",
       "      <th>Program_Description</th>\n",
       "      <th>Fund_Description</th>\n",
       "      <th>Text_1</th>\n",
       "    </tr>\n",
       "  </thead>\n",
       "  <tbody>\n",
       "    <tr>\n",
       "      <th>11890</th>\n",
       "      <td>NO_LABEL</td>\n",
       "      <td>NO_LABEL</td>\n",
       "      <td>NO_LABEL</td>\n",
       "      <td>NO_LABEL</td>\n",
       "      <td>NO_LABEL</td>\n",
       "      <td>NO_LABEL</td>\n",
       "      <td>NO_LABEL</td>\n",
       "      <td>NO_LABEL</td>\n",
       "      <td>Non-Operating</td>\n",
       "      <td>SALARIES OF REGULAR EMPLOYEES</td>\n",
       "      <td>...</td>\n",
       "      <td>NaN</td>\n",
       "      <td>PERSONNEL-PAID LEAVE</td>\n",
       "      <td>-0.024490</td>\n",
       "      <td>NON-PROJECT</td>\n",
       "      <td>NaN</td>\n",
       "      <td>CRAFTS, TRADES, AND SERVICES</td>\n",
       "      <td>NaN</td>\n",
       "      <td>STAFF SERVICES</td>\n",
       "      <td>NaN</td>\n",
       "      <td>CENTRAL</td>\n",
       "    </tr>\n",
       "    <tr>\n",
       "      <th>251131</th>\n",
       "      <td>Teacher Compensation</td>\n",
       "      <td>Instruction</td>\n",
       "      <td>School Reported</td>\n",
       "      <td>School</td>\n",
       "      <td>Special Education</td>\n",
       "      <td>Teacher</td>\n",
       "      <td>Base Salary/Compensation</td>\n",
       "      <td>NO_LABEL</td>\n",
       "      <td>PreK-12 Operating</td>\n",
       "      <td>SALARIES OF REGULAR EMPLOYEES</td>\n",
       "      <td>...</td>\n",
       "      <td>NaN</td>\n",
       "      <td>NaN</td>\n",
       "      <td>-0.022645</td>\n",
       "      <td>SPECIAL ED. - MILD/MODERATE</td>\n",
       "      <td>NaN</td>\n",
       "      <td>PROFESSIONAL-INSTRUCTIONAL</td>\n",
       "      <td>-1279.639890</td>\n",
       "      <td>SPECIAL EDUCATION-HD HIGH</td>\n",
       "      <td>NaN</td>\n",
       "      <td>SPECIAL EDUCATION</td>\n",
       "    </tr>\n",
       "    <tr>\n",
       "      <th>169065</th>\n",
       "      <td>Teacher Compensation</td>\n",
       "      <td>Instruction</td>\n",
       "      <td>School on Central Budgets</td>\n",
       "      <td>Non-School</td>\n",
       "      <td>PreK</td>\n",
       "      <td>Teacher</td>\n",
       "      <td>Base Salary/Compensation</td>\n",
       "      <td>PreK</td>\n",
       "      <td>PreK-12 Operating</td>\n",
       "      <td>SALARIES OF PART TIME EMPLOYEE</td>\n",
       "      <td>...</td>\n",
       "      <td>NaN</td>\n",
       "      <td>EARLY CHILDHOOD EDUCATION</td>\n",
       "      <td>-0.020676</td>\n",
       "      <td>TUITION BASED - ECE</td>\n",
       "      <td>NaN</td>\n",
       "      <td>PROFESSIONAL-OTHER</td>\n",
       "      <td>-966.621829</td>\n",
       "      <td>SUPPORT SERVICES-INSTRUCTIONAL</td>\n",
       "      <td>NaN</td>\n",
       "      <td>INSTRUCTIONAL STAFF</td>\n",
       "    </tr>\n",
       "    <tr>\n",
       "      <th>111271</th>\n",
       "      <td>Special Population Program Management &amp; Support</td>\n",
       "      <td>ISPD</td>\n",
       "      <td>Leadership &amp; Management</td>\n",
       "      <td>Non-School</td>\n",
       "      <td>ELL</td>\n",
       "      <td>Other</td>\n",
       "      <td>Base Salary/Compensation</td>\n",
       "      <td>NO_LABEL</td>\n",
       "      <td>PreK-12 Operating</td>\n",
       "      <td>SALARIES OF PART TIME EMPLOYEE</td>\n",
       "      <td>...</td>\n",
       "      <td>NaN</td>\n",
       "      <td>ENGLISH FOR SPEAKERS OF OTHER</td>\n",
       "      <td>-0.020012</td>\n",
       "      <td>ELA S - TEACHING SPANISH ONLY</td>\n",
       "      <td>NaN</td>\n",
       "      <td>OFFICE/ADMINISTRATIVE SUPPORT</td>\n",
       "      <td>-595.654318</td>\n",
       "      <td>SUPPORT SERVICES-INSTRUCTIONAL</td>\n",
       "      <td>NaN</td>\n",
       "      <td>INSTRUCTIONAL STAFF</td>\n",
       "    </tr>\n",
       "    <tr>\n",
       "      <th>29425</th>\n",
       "      <td>Teacher Compensation</td>\n",
       "      <td>Instruction</td>\n",
       "      <td>School Reported</td>\n",
       "      <td>School</td>\n",
       "      <td>Unspecified</td>\n",
       "      <td>Teacher</td>\n",
       "      <td>Base Salary/Compensation</td>\n",
       "      <td>NO_LABEL</td>\n",
       "      <td>PreK-12 Operating</td>\n",
       "      <td>SALARIES OF REGULAR EMPLOYEES</td>\n",
       "      <td>...</td>\n",
       "      <td>NaN</td>\n",
       "      <td>NaN</td>\n",
       "      <td>-0.018115</td>\n",
       "      <td>ALL DAY KINDERGARTEN</td>\n",
       "      <td>NaN</td>\n",
       "      <td>PROFESSIONAL-INSTRUCTIONAL</td>\n",
       "      <td>-869.659820</td>\n",
       "      <td>GENERAL ELEMENTARY EDUCATION</td>\n",
       "      <td>NaN</td>\n",
       "      <td>REGULAR INSTRUCTION</td>\n",
       "    </tr>\n",
       "  </tbody>\n",
       "</table>\n",
       "<p>5 rows × 25 columns</p>\n",
       "</div>"
      ],
      "text/plain": [
       "                                               Function          Use  \\\n",
       "11890                                          NO_LABEL     NO_LABEL   \n",
       "251131                             Teacher Compensation  Instruction   \n",
       "169065                             Teacher Compensation  Instruction   \n",
       "111271  Special Population Program Management & Support         ISPD   \n",
       "29425                              Teacher Compensation  Instruction   \n",
       "\n",
       "                          Sharing   Reporting       Student_Type  \\\n",
       "11890                    NO_LABEL    NO_LABEL           NO_LABEL   \n",
       "251131            School Reported      School  Special Education   \n",
       "169065  School on Central Budgets  Non-School               PreK   \n",
       "111271    Leadership & Management  Non-School                ELL   \n",
       "29425             School Reported      School        Unspecified   \n",
       "\n",
       "       Position_Type               Object_Type     Pre_K   Operating_Status  \\\n",
       "11890       NO_LABEL                  NO_LABEL  NO_LABEL      Non-Operating   \n",
       "251131       Teacher  Base Salary/Compensation  NO_LABEL  PreK-12 Operating   \n",
       "169065       Teacher  Base Salary/Compensation      PreK  PreK-12 Operating   \n",
       "111271         Other  Base Salary/Compensation  NO_LABEL  PreK-12 Operating   \n",
       "29425        Teacher  Base Salary/Compensation  NO_LABEL  PreK-12 Operating   \n",
       "\n",
       "                    Object_Description         ...           \\\n",
       "11890    SALARIES OF REGULAR EMPLOYEES         ...            \n",
       "251131   SALARIES OF REGULAR EMPLOYEES         ...            \n",
       "169065  SALARIES OF PART TIME EMPLOYEE         ...            \n",
       "111271  SALARIES OF PART TIME EMPLOYEE         ...            \n",
       "29425    SALARIES OF REGULAR EMPLOYEES         ...            \n",
       "\n",
       "       Sub_Object_Description           Location_Description       FTE  \\\n",
       "11890                     NaN           PERSONNEL-PAID LEAVE -0.024490   \n",
       "251131                    NaN                            NaN -0.022645   \n",
       "169065                    NaN      EARLY CHILDHOOD EDUCATION -0.020676   \n",
       "111271                    NaN  ENGLISH FOR SPEAKERS OF OTHER -0.020012   \n",
       "29425                     NaN                            NaN -0.018115   \n",
       "\n",
       "                 Function_Description Facility_or_Department  \\\n",
       "11890                     NON-PROJECT                    NaN   \n",
       "251131    SPECIAL ED. - MILD/MODERATE                    NaN   \n",
       "169065            TUITION BASED - ECE                    NaN   \n",
       "111271  ELA S - TEACHING SPANISH ONLY                    NaN   \n",
       "29425            ALL DAY KINDERGARTEN                    NaN   \n",
       "\n",
       "                       Position_Extra        Total  \\\n",
       "11890    CRAFTS, TRADES, AND SERVICES          NaN   \n",
       "251131     PROFESSIONAL-INSTRUCTIONAL -1279.639890   \n",
       "169065             PROFESSIONAL-OTHER  -966.621829   \n",
       "111271  OFFICE/ADMINISTRATIVE SUPPORT  -595.654318   \n",
       "29425      PROFESSIONAL-INSTRUCTIONAL  -869.659820   \n",
       "\n",
       "                   Program_Description Fund_Description               Text_1  \n",
       "11890                   STAFF SERVICES              NaN              CENTRAL  \n",
       "251131       SPECIAL EDUCATION-HD HIGH              NaN    SPECIAL EDUCATION  \n",
       "169065  SUPPORT SERVICES-INSTRUCTIONAL              NaN  INSTRUCTIONAL STAFF  \n",
       "111271  SUPPORT SERVICES-INSTRUCTIONAL              NaN  INSTRUCTIONAL STAFF  \n",
       "29425     GENERAL ELEMENTARY EDUCATION              NaN  REGULAR INSTRUCTION  \n",
       "\n",
       "[5 rows x 25 columns]"
      ]
     },
     "execution_count": 6,
     "metadata": {},
     "output_type": "execute_result"
    }
   ],
   "source": [
    "# import the first dataset\n",
    "file = 'D:/Springboard_DataCamp/data/MachineLearning_with_the_Experts_SchoolBudgets/TrainingData_v1.csv'\n",
    "df = pd.read_csv(file, index_col=0)\n",
    "df.head()"
   ]
  },
  {
   "cell_type": "code",
   "execution_count": 7,
   "metadata": {},
   "outputs": [
    {
     "name": "stdout",
     "output_type": "stream",
     "text": [
      "<class 'pandas.core.frame.DataFrame'>\n",
      "Int64Index: 400061 entries, 11890 to 415831\n",
      "Data columns (total 25 columns):\n",
      "Function                  400061 non-null object\n",
      "Use                       400061 non-null object\n",
      "Sharing                   400061 non-null object\n",
      "Reporting                 400061 non-null object\n",
      "Student_Type              400061 non-null object\n",
      "Position_Type             400061 non-null object\n",
      "Object_Type               400061 non-null object\n",
      "Pre_K                     400061 non-null object\n",
      "Operating_Status          400061 non-null object\n",
      "Object_Description        375277 non-null object\n",
      "Text_2                    88131 non-null object\n",
      "SubFund_Description       306685 non-null object\n",
      "Job_Title_Description     292571 non-null object\n",
      "Text_3                    109077 non-null object\n",
      "Text_4                    53745 non-null object\n",
      "Sub_Object_Description    91599 non-null object\n",
      "Location_Description      162008 non-null object\n",
      "FTE                       125855 non-null float64\n",
      "Function_Description      342024 non-null object\n",
      "Facility_or_Department    53886 non-null object\n",
      "Position_Extra            264624 non-null object\n",
      "Total                     395510 non-null float64\n",
      "Program_Description       304476 non-null object\n",
      "Fund_Description          202800 non-null object\n",
      "Text_1                    292115 non-null object\n",
      "dtypes: float64(2), object(23)\n",
      "memory usage: 79.4+ MB\n"
     ]
    }
   ],
   "source": [
    "df.info()"
   ]
  },
  {
   "cell_type": "markdown",
   "metadata": {},
   "source": [
    "## Summarizing the data\n",
    "You can use df.info() to determine which columns of the data are numeric, specifically type float64. You'll notice that there are two numeric columns, called **`FTE`** and **`Total.`**\n",
    "\n",
    "- **`FTE`**: Stands for \"full-time equivalent\". If the budget item is associated to an employee, this number tells us the percentage of full-time that the employee works. A value of 1 means the associated employee works for the school full-time. A value close to 0 means the item is associated to a part-time or contracted employee.\n",
    "\n",
    "- **`Total`**: Stands for the total cost of the expenditure. This number tells us how much the budget item cost.\n",
    "\n",
    "After printing summary statistics for the numeric data, your job is to plot a histogram of the non-null FTE column to see the distribution of part-time and full-time employees in the dataset."
   ]
  },
  {
   "cell_type": "code",
   "execution_count": 8,
   "metadata": {},
   "outputs": [
    {
     "name": "stdout",
     "output_type": "stream",
     "text": [
      "                 FTE         Total\n",
      "count  125855.000000  3.955100e+05\n",
      "mean        0.419847  1.306296e+04\n",
      "std         0.451720  3.683061e+05\n",
      "min        -0.024490 -8.746631e+07\n",
      "25%         0.000619  7.367826e+01\n",
      "50%         0.130000  4.605700e+02\n",
      "75%         1.000000  3.631327e+03\n",
      "max         1.047722  1.297000e+08\n"
     ]
    },
    {
     "data": {
      "image/png": "[encoded data removed]",
      "text/plain": [
       "<Figure size 432x288 with 1 Axes>"
      ]
     },
     "metadata": {},
     "output_type": "display_data"
    }
   ],
   "source": [
    "# Print the summary statistics\n",
    "print(df.describe())\n",
    "\n",
    "# Create the histogram\n",
    "plt.hist(df['FTE'].dropna())\n",
    "\n",
    "# Add title and labels\n",
    "plt.title('Distribution of %full-time \\n employee works')\n",
    "plt.xlabel('% of full-time')\n",
    "plt.ylabel('num employees')\n",
    "\n",
    "# Display the histogram\n",
    "plt.show()"
   ]
  },
  {
   "cell_type": "markdown",
   "metadata": {},
   "source": [
    "## Exploring datatypes in pandas\n",
    "It's always good to know what datatypes you're working with, especially when the inefficient pandas type object may be involved. Towards that end, let's explore what we have.\n",
    "\n",
    "Your job is to look at the DataFrame attribute .dtypes in the IPython Shell, and call its .value_counts() method in order to answer the question below.\n",
    "\n",
    "Make sure to call df.dtypes.value_counts(), and not df.value_counts()! Check out the difference in the Shell. df.value_counts() will return an error, because it is a Series method, not a DataFrame method.\n",
    "\n",
    "How many columns with dtype object are in the data?"
   ]
  },
  {
   "cell_type": "code",
   "execution_count": 9,
   "metadata": {},
   "outputs": [
    {
     "data": {
      "text/plain": [
       "object     23\n",
       "float64     2\n",
       "dtype: int64"
      ]
     },
     "execution_count": 9,
     "metadata": {},
     "output_type": "execute_result"
    }
   ],
   "source": [
    "df.dtypes.value_counts()"
   ]
  },
  {
   "cell_type": "markdown",
   "metadata": {},
   "source": [
    "## Encode the labels as categorical variables\n",
    "Remember, your ultimate goal is to predict the probability that a certain label is attached to a budget line item. You just saw that many columns in your data are the inefficient **`object`** type. Does this include the labels you're trying to predict? Let's find out!\n",
    "\n",
    "There are 9 columns of labels in the dataset. Each of these columns is a category that has many possible values it can take. The 9 labels have been loaded into a list called **`LABELS`**. \n",
    "\n",
    "You will notice that every label is encoded as an object datatype. Because category datatypes are much more efficient your task is to convert the labels to category types using the **`.astype()`** method.\n",
    "\n",
    "Note: **`.astype()`** only works on a pandas Series. Since you are working with a pandas DataFrame, you'll need to use the **`.apply()`** method and provide a **`lambda`** function called **`categorize_label`** that applies **`.astype()`** to each column, x."
   ]
  },
  {
   "cell_type": "code",
   "execution_count": 11,
   "metadata": {},
   "outputs": [
    {
     "name": "stdout",
     "output_type": "stream",
     "text": [
      "Function            category\n",
      "Use                 category\n",
      "Sharing             category\n",
      "Reporting           category\n",
      "Student_Type        category\n",
      "Position_Type       category\n",
      "Object_Type         category\n",
      "Pre_K               category\n",
      "Operating_Status    category\n",
      "dtype: object\n"
     ]
    }
   ],
   "source": [
    "LABELS = ['Function', 'Use', 'Sharing', 'Reporting', 'Student_Type', 'Position_Type', 'Object_Type', 'Pre_K', 'Operating_Status']\n",
    "\n",
    "# Define the lambda function: categorize_label\n",
    "categorize_label = lambda x: x.astype('category')\n",
    "\n",
    "# Convert df[LABELS] to a categorical type\n",
    "df[LABELS] = df[LABELS].apply(categorize_label, axis=0)\n",
    "\n",
    "# Print the converted dtypes\n",
    "print(df[LABELS].dtypes)"
   ]
  },
  {
   "cell_type": "markdown",
   "metadata": {},
   "source": [
    "## Counting unique labels\n",
    "There are over 100 unique labels. In this exercise, you will explore this fact by counting and plotting the number of unique values for each category of label.\n",
    "\n",
    "pandas provides a **`pd.Series.nunique`** method for counting the number of unique values in a Series."
   ]
  },
  {
   "cell_type": "code",
   "execution_count": 12,
   "metadata": {},
   "outputs": [
    {
     "data": {
      "image/png": "[encoded data removed]",
      "text/plain": [
       "<Figure size 432x288 with 1 Axes>"
      ]
     },
     "metadata": {},
     "output_type": "display_data"
    }
   ],
   "source": [
    "# Calculate number of unique values for each label: num_unique_labels\n",
    "num_unique_labels = df[LABELS].apply(pd.Series.nunique)\n",
    "\n",
    "# Plot number of unique values for each label\n",
    "num_unique_labels.plot(kind='bar')\n",
    "\n",
    "# Label the axes\n",
    "plt.xlabel('Labels')\n",
    "plt.ylabel('Number of unique values')\n",
    "\n",
    "# Display the plot\n",
    "plt.show()"
   ]
  },
  {
   "cell_type": "markdown",
   "metadata": {},
   "source": [
    "## Computing log loss with NumPy\n",
    "To see how the log loss metric handles the trade-off between accuracy and confidence, we will use some sample data generated with NumPy and compute the log loss using the provided function compute_log_loss(), which Peter showed you in the video.\n",
    "\n",
    "5 one-dimensional numeric arrays simulating different types of predictions have been pre-loaded: actual_labels, correct_confident, correct_not_confident, wrong_not_confident, and wrong_confident.\n",
    "\n",
    "Your job is to compute the log loss for each sample set provided using the **`compute_log_loss(predicted_values, actual_values)`**. It takes the predicted values as the first argument and the actual values as the second argument."
   ]
  },
  {
   "cell_type": "code",
   "execution_count": 18,
   "metadata": {},
   "outputs": [],
   "source": [
    "# Create log loss function\n",
    "def compute_log_loss(predicted, actual, eps=1e-14):\n",
    " \"\"\" Computes the logarithmic loss between predicted and\n",
    " actual when these are 1D arrays.\n",
    "\n",
    " :param predicted: The predicted probabilities as floats between 0-1\n",
    " :param actual: The actual binary labels. Either 0 or 1.\n",
    " :param eps (optional): log(0) is inf, so we need to offset our\n",
    " predicted values slightly by eps from 0 or 1.\n",
    " \"\"\"\n",
    " predicted = np.clip(predicted, eps, 1 - eps)\n",
    " loss = -1 * np.mean(actual * np.log(predicted)\n",
    " + (1 - actual)\n",
    " * np.log(1 - predicted))\n",
    "\n",
    " return loss"
   ]
  },
  {
   "cell_type": "code",
   "execution_count": 17,
   "metadata": {},
   "outputs": [],
   "source": [
    "actual_labels = np.array([1., 1., 1., 1., 1., 0., 0., 0., 0., 0.])\n",
    "correct_confident = np.array([0.95, 0.95, 0.95, 0.95, 0.95, 0.05, 0.05, 0.05, 0.05, 0.05])\n",
    "correct_not_confident = np.array([0.65, 0.65, 0.65, 0.65, 0.65, 0.35, 0.35, 0.35, 0.35, 0.35])\n",
    "wrong_not_confident = np.array([0.35, 0.35, 0.35, 0.35, 0.35, 0.65, 0.65, 0.65, 0.65, 0.65])\n",
    "wrong_confident = np.array([0.05, 0.05, 0.05, 0.05, 0.05, 0.95, 0.95, 0.95, 0.95, 0.95])"
   ]
  },
  {
   "cell_type": "code",
   "execution_count": 19,
   "metadata": {},
   "outputs": [
    {
     "name": "stdout",
     "output_type": "stream",
     "text": [
      "Log loss, correct and confident:  0.05129329438755058\n",
      "Log loss, correct and not confident: 0.4307829160924542\n",
      "Log loss, wrong and not confident: 1.049822124498678\n",
      "Log loss, wrong and confident: 2.9957322735539904\n",
      "Log loss, actual labels: 9.99200722162646e-15\n"
     ]
    }
   ],
   "source": [
    "# Compute and print log loss for 1st case\n",
    "correct_confident = compute_log_loss(correct_confident, actual_labels)\n",
    "print(\"Log loss, correct and confident: \", correct_confident) \n",
    "\n",
    "# Compute log loss for 2nd case\n",
    "correct_not_confident = compute_log_loss(correct_not_confident, actual_labels)\n",
    "print(\"Log loss, correct and not confident: {}\".format(correct_not_confident)) \n",
    "\n",
    "# Compute and print log loss for 3rd case\n",
    "wrong_not_confident = compute_log_loss(wrong_not_confident, actual_labels)\n",
    "print(\"Log loss, wrong and not confident: {}\".format(wrong_not_confident)) \n",
    "\n",
    "# Compute and print log loss for 4th case\n",
    "wrong_confident = compute_log_loss(wrong_confident, actual_labels)\n",
    "print(\"Log loss, wrong and confident: {}\".format(wrong_confident)) \n",
    "\n",
    "# Compute and print log loss for actual labels\n",
    "actual_labels = compute_log_loss(actual_labels, actual_labels)\n",
    "print(\"Log loss, actual labels: {}\".format(actual_labels)) "
   ]
  },
  {
   "cell_type": "markdown",
   "metadata": {},
   "source": [
    " Log loss penalizes highly confident wrong answers much more than any other type. This will be a good metric to use on your models."
   ]
  },
  {
   "cell_type": "code",
   "execution_count": null,
   "metadata": {},
   "outputs": [],
   "source": []
  },
  {
   "cell_type": "code",
   "execution_count": null,
   "metadata": {},
   "outputs": [],
   "source": []
  },
  {
   "cell_type": "code",
   "execution_count": null,
   "metadata": {},
   "outputs": [],
   "source": []
  },
  {
   "cell_type": "code",
   "execution_count": null,
   "metadata": {},
   "outputs": [],
   "source": []
  }
 ],
 "metadata": {
  "kernelspec": {
   "display_name": "Python 3",
   "language": "python",
   "name": "python3"
  },
  "language_info": {
   "codemirror_mode": {
    "name": "ipython",
    "version": 3
   },
   "file_extension": ".py",
   "mimetype": "text/x-python",
   "name": "python",
   "nbconvert_exporter": "python",
   "pygments_lexer": "ipython3",
   "version": "3.6.4"
  }
 },
 "nbformat": 4,
 "nbformat_minor": 2
}
