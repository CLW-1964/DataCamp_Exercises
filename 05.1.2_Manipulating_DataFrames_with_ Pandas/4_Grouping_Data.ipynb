{
 "cells": [
  {
   "cell_type": "code",
   "execution_count": 1,
   "metadata": {},
   "outputs": [],
   "source": [
    "# import libraries\n",
    "import numpy as np\n",
    "import pandas as pd\n",
    "import matplotlib.pyplot as plt\n",
    "%matplotlib inline"
   ]
  },
  {
   "cell_type": "markdown",
   "metadata": {},
   "source": [
    "## Grouping by multiple columns\n",
    "In this exercise, you will return to working with the Titanic dataset from Chapter 1 and use **`.groupby()`** to analyze the distribution of passengers who boarded the Titanic.\n",
    "\n",
    "The **`'pclass'`** column identifies which class of ticket was purchased by the passenger and the **`'embarked'`** column indicates at which of the three ports the passenger boarded the Titanic. **`'S'`** stands for Southampton, England, **`'C'`** for Cherbourg, France and **`'Q'`** for Queenstown, Ireland.\n",
    "\n",
    "Your job is to first group by the **`'pclass'`** column and count the number of rows in each class using the **`'survived'`** column. You will then group by the **`'embarked'`** and **`'pclass'`** columns and count the number of passengers.\n"
   ]
  },
  {
   "cell_type": "code",
   "execution_count": 2,
   "metadata": {},
   "outputs": [
    {
     "data": {
      "text/html": [
       "<div>\n",
       "<style scoped>\n",
       "    .dataframe tbody tr th:only-of-type {\n",
       "        vertical-align: middle;\n",
       "    }\n",
       "\n",
       "    .dataframe tbody tr th {\n",
       "        vertical-align: top;\n",
       "    }\n",
       "\n",
       "    .dataframe thead th {\n",
       "        text-align: right;\n",
       "    }\n",
       "</style>\n",
       "<table border=\"1\" class=\"dataframe\">\n",
       "  <thead>\n",
       "    <tr style=\"text-align: right;\">\n",
       "      <th></th>\n",
       "      <th>pclass</th>\n",
       "      <th>survived</th>\n",
       "      <th>name</th>\n",
       "      <th>sex</th>\n",
       "      <th>age</th>\n",
       "      <th>sibsp</th>\n",
       "      <th>parch</th>\n",
       "      <th>ticket</th>\n",
       "      <th>fare</th>\n",
       "      <th>cabin</th>\n",
       "      <th>embarked</th>\n",
       "      <th>boat</th>\n",
       "      <th>body</th>\n",
       "      <th>home.dest</th>\n",
       "    </tr>\n",
       "  </thead>\n",
       "  <tbody>\n",
       "    <tr>\n",
       "      <th>0</th>\n",
       "      <td>1</td>\n",
       "      <td>1</td>\n",
       "      <td>Allen, Miss. Elisabeth Walton</td>\n",
       "      <td>female</td>\n",
       "      <td>29.00</td>\n",
       "      <td>0</td>\n",
       "      <td>0</td>\n",
       "      <td>24160</td>\n",
       "      <td>211.3375</td>\n",
       "      <td>B5</td>\n",
       "      <td>S</td>\n",
       "      <td>2</td>\n",
       "      <td>NaN</td>\n",
       "      <td>St Louis, MO</td>\n",
       "    </tr>\n",
       "    <tr>\n",
       "      <th>1</th>\n",
       "      <td>1</td>\n",
       "      <td>1</td>\n",
       "      <td>Allison, Master. Hudson Trevor</td>\n",
       "      <td>male</td>\n",
       "      <td>0.92</td>\n",
       "      <td>1</td>\n",
       "      <td>2</td>\n",
       "      <td>113781</td>\n",
       "      <td>151.5500</td>\n",
       "      <td>C22 C26</td>\n",
       "      <td>S</td>\n",
       "      <td>11</td>\n",
       "      <td>NaN</td>\n",
       "      <td>Montreal, PQ / Chesterville, ON</td>\n",
       "    </tr>\n",
       "    <tr>\n",
       "      <th>2</th>\n",
       "      <td>1</td>\n",
       "      <td>0</td>\n",
       "      <td>Allison, Miss. Helen Loraine</td>\n",
       "      <td>female</td>\n",
       "      <td>2.00</td>\n",
       "      <td>1</td>\n",
       "      <td>2</td>\n",
       "      <td>113781</td>\n",
       "      <td>151.5500</td>\n",
       "      <td>C22 C26</td>\n",
       "      <td>S</td>\n",
       "      <td>NaN</td>\n",
       "      <td>NaN</td>\n",
       "      <td>Montreal, PQ / Chesterville, ON</td>\n",
       "    </tr>\n",
       "    <tr>\n",
       "      <th>3</th>\n",
       "      <td>1</td>\n",
       "      <td>0</td>\n",
       "      <td>Allison, Mr. Hudson Joshua Creighton</td>\n",
       "      <td>male</td>\n",
       "      <td>30.00</td>\n",
       "      <td>1</td>\n",
       "      <td>2</td>\n",
       "      <td>113781</td>\n",
       "      <td>151.5500</td>\n",
       "      <td>C22 C26</td>\n",
       "      <td>S</td>\n",
       "      <td>NaN</td>\n",
       "      <td>135.0</td>\n",
       "      <td>Montreal, PQ / Chesterville, ON</td>\n",
       "    </tr>\n",
       "    <tr>\n",
       "      <th>4</th>\n",
       "      <td>1</td>\n",
       "      <td>0</td>\n",
       "      <td>Allison, Mrs. Hudson J C (Bessie Waldo Daniels)</td>\n",
       "      <td>female</td>\n",
       "      <td>25.00</td>\n",
       "      <td>1</td>\n",
       "      <td>2</td>\n",
       "      <td>113781</td>\n",
       "      <td>151.5500</td>\n",
       "      <td>C22 C26</td>\n",
       "      <td>S</td>\n",
       "      <td>NaN</td>\n",
       "      <td>NaN</td>\n",
       "      <td>Montreal, PQ / Chesterville, ON</td>\n",
       "    </tr>\n",
       "  </tbody>\n",
       "</table>\n",
       "</div>"
      ],
      "text/plain": [
       "   pclass  survived                                             name     sex  \\\n",
       "0       1         1                    Allen, Miss. Elisabeth Walton  female   \n",
       "1       1         1                   Allison, Master. Hudson Trevor    male   \n",
       "2       1         0                     Allison, Miss. Helen Loraine  female   \n",
       "3       1         0             Allison, Mr. Hudson Joshua Creighton    male   \n",
       "4       1         0  Allison, Mrs. Hudson J C (Bessie Waldo Daniels)  female   \n",
       "\n",
       "     age  sibsp  parch  ticket      fare    cabin embarked boat   body  \\\n",
       "0  29.00      0      0   24160  211.3375       B5        S    2    NaN   \n",
       "1   0.92      1      2  113781  151.5500  C22 C26        S   11    NaN   \n",
       "2   2.00      1      2  113781  151.5500  C22 C26        S  NaN    NaN   \n",
       "3  30.00      1      2  113781  151.5500  C22 C26        S  NaN  135.0   \n",
       "4  25.00      1      2  113781  151.5500  C22 C26        S  NaN    NaN   \n",
       "\n",
       "                         home.dest  \n",
       "0                     St Louis, MO  \n",
       "1  Montreal, PQ / Chesterville, ON  \n",
       "2  Montreal, PQ / Chesterville, ON  \n",
       "3  Montreal, PQ / Chesterville, ON  \n",
       "4  Montreal, PQ / Chesterville, ON  "
      ]
     },
     "execution_count": 2,
     "metadata": {},
     "output_type": "execute_result"
    }
   ],
   "source": [
    "# import dataset\n",
    "titanic = pd.read_csv('D:/Springboard_DataCamp/data/Manipulating_DataFrames_with_ Pandas/titanic.csv')\n",
    "titanic.head()\n",
    "\n"
   ]
  },
  {
   "cell_type": "code",
   "execution_count": 3,
   "metadata": {},
   "outputs": [
    {
     "data": {
      "text/plain": [
       "pclass\n",
       "1    323\n",
       "2    277\n",
       "3    709\n",
       "Name: survived, dtype: int64"
      ]
     },
     "execution_count": 3,
     "metadata": {},
     "output_type": "execute_result"
    }
   ],
   "source": [
    "# Group titanic by 'pclass'\n",
    "by_class = titanic.groupby('pclass')\n",
    "\n",
    "# Aggregate 'survived' column of by_class by count\n",
    "count_by_class = by_class['survived'].count()\n",
    "count_by_class"
   ]
  },
  {
   "cell_type": "code",
   "execution_count": 4,
   "metadata": {},
   "outputs": [
    {
     "data": {
      "text/plain": [
       "pclass\n",
       "1    323\n",
       "2    277\n",
       "3    709\n",
       "Name: survived, dtype: int64"
      ]
     },
     "execution_count": 4,
     "metadata": {},
     "output_type": "execute_result"
    }
   ],
   "source": [
    "# or alternatively\n",
    "by_class2 = titanic.groupby('pclass')['survived'].count()\n",
    "by_class2"
   ]
  },
  {
   "cell_type": "code",
   "execution_count": 5,
   "metadata": {},
   "outputs": [
    {
     "data": {
      "text/plain": [
       "embarked  pclass\n",
       "C         1         141\n",
       "          2          28\n",
       "          3         101\n",
       "Q         1           3\n",
       "          2           7\n",
       "          3         113\n",
       "S         1         177\n",
       "          2         242\n",
       "          3         495\n",
       "Name: survived, dtype: int64"
      ]
     },
     "execution_count": 5,
     "metadata": {},
     "output_type": "execute_result"
    }
   ],
   "source": [
    "# Group titanic by 'embarked' and 'pclass'\n",
    "by_mult = titanic.groupby(['embarked', 'pclass'])\n",
    "\n",
    "# Aggregate 'survived' column of by_mult by count\n",
    "count_mult = by_mult['survived'].count()\n",
    "count_mult"
   ]
  },
  {
   "cell_type": "code",
   "execution_count": 6,
   "metadata": {},
   "outputs": [
    {
     "data": {
      "text/plain": [
       "embarked  pclass\n",
       "C         1         141\n",
       "          2          28\n",
       "          3         101\n",
       "Q         1           3\n",
       "          2           7\n",
       "          3         113\n",
       "S         1         177\n",
       "          2         242\n",
       "          3         495\n",
       "Name: survived, dtype: int64"
      ]
     },
     "execution_count": 6,
     "metadata": {},
     "output_type": "execute_result"
    }
   ],
   "source": [
    "# or alternatively\n",
    "count_mult2 = titanic.groupby(['embarked', 'pclass'])['survived'].count()\n",
    "count_mult2"
   ]
  },
  {
   "cell_type": "markdown",
   "metadata": {},
   "source": [
    "## Grouping by another series\n",
    "In this exercise, you'll use two data sets from **Gapminder.org** to investigate the average life expectancy (in years) at birth in 2010 for the 6 continental regions. To do this you'll read the life expectancy data per country into one pandas DataFrame and the association between country and region into another.\n",
    "\n",
    "By setting the index of both DataFrames to the country name, you'll then use the region information to group the countries in the life expectancy DataFrame and compute the mean value for 2010."
   ]
  },
  {
   "cell_type": "code",
   "execution_count": 7,
   "metadata": {},
   "outputs": [
    {
     "data": {
      "text/html": [
       "<div>\n",
       "<style scoped>\n",
       "    .dataframe tbody tr th:only-of-type {\n",
       "        vertical-align: middle;\n",
       "    }\n",
       "\n",
       "    .dataframe tbody tr th {\n",
       "        vertical-align: top;\n",
       "    }\n",
       "\n",
       "    .dataframe thead th {\n",
       "        text-align: right;\n",
       "    }\n",
       "</style>\n",
       "<table border=\"1\" class=\"dataframe\">\n",
       "  <thead>\n",
       "    <tr style=\"text-align: right;\">\n",
       "      <th></th>\n",
       "      <th>1964</th>\n",
       "      <th>1965</th>\n",
       "      <th>1966</th>\n",
       "      <th>1967</th>\n",
       "      <th>1968</th>\n",
       "      <th>1969</th>\n",
       "      <th>1970</th>\n",
       "      <th>1971</th>\n",
       "      <th>1972</th>\n",
       "      <th>1973</th>\n",
       "      <th>...</th>\n",
       "      <th>2004</th>\n",
       "      <th>2005</th>\n",
       "      <th>2006</th>\n",
       "      <th>2007</th>\n",
       "      <th>2008</th>\n",
       "      <th>2009</th>\n",
       "      <th>2010</th>\n",
       "      <th>2011</th>\n",
       "      <th>2012</th>\n",
       "      <th>2013</th>\n",
       "    </tr>\n",
       "    <tr>\n",
       "      <th>Country</th>\n",
       "      <th></th>\n",
       "      <th></th>\n",
       "      <th></th>\n",
       "      <th></th>\n",
       "      <th></th>\n",
       "      <th></th>\n",
       "      <th></th>\n",
       "      <th></th>\n",
       "      <th></th>\n",
       "      <th></th>\n",
       "      <th></th>\n",
       "      <th></th>\n",
       "      <th></th>\n",
       "      <th></th>\n",
       "      <th></th>\n",
       "      <th></th>\n",
       "      <th></th>\n",
       "      <th></th>\n",
       "      <th></th>\n",
       "      <th></th>\n",
       "      <th></th>\n",
       "    </tr>\n",
       "  </thead>\n",
       "  <tbody>\n",
       "    <tr>\n",
       "      <th>Afghanistan</th>\n",
       "      <td>33.639</td>\n",
       "      <td>34.152</td>\n",
       "      <td>34.662</td>\n",
       "      <td>35.170</td>\n",
       "      <td>35.674</td>\n",
       "      <td>36.172</td>\n",
       "      <td>36.663</td>\n",
       "      <td>37.143</td>\n",
       "      <td>37.614</td>\n",
       "      <td>38.075</td>\n",
       "      <td>...</td>\n",
       "      <td>56.583</td>\n",
       "      <td>57.071</td>\n",
       "      <td>57.582</td>\n",
       "      <td>58.102</td>\n",
       "      <td>58.618</td>\n",
       "      <td>59.124</td>\n",
       "      <td>59.612</td>\n",
       "      <td>60.079</td>\n",
       "      <td>60.524</td>\n",
       "      <td>60.947</td>\n",
       "    </tr>\n",
       "    <tr>\n",
       "      <th>Albania</th>\n",
       "      <td>65.475</td>\n",
       "      <td>65.863</td>\n",
       "      <td>66.122</td>\n",
       "      <td>66.316</td>\n",
       "      <td>66.500</td>\n",
       "      <td>66.702</td>\n",
       "      <td>66.948</td>\n",
       "      <td>67.251</td>\n",
       "      <td>67.595</td>\n",
       "      <td>67.966</td>\n",
       "      <td>...</td>\n",
       "      <td>75.725</td>\n",
       "      <td>75.949</td>\n",
       "      <td>76.124</td>\n",
       "      <td>76.278</td>\n",
       "      <td>76.433</td>\n",
       "      <td>76.598</td>\n",
       "      <td>76.780</td>\n",
       "      <td>76.979</td>\n",
       "      <td>77.185</td>\n",
       "      <td>77.392</td>\n",
       "    </tr>\n",
       "    <tr>\n",
       "      <th>Algeria</th>\n",
       "      <td>47.953</td>\n",
       "      <td>48.389</td>\n",
       "      <td>48.806</td>\n",
       "      <td>49.205</td>\n",
       "      <td>49.592</td>\n",
       "      <td>49.976</td>\n",
       "      <td>50.366</td>\n",
       "      <td>50.767</td>\n",
       "      <td>51.195</td>\n",
       "      <td>51.670</td>\n",
       "      <td>...</td>\n",
       "      <td>69.682</td>\n",
       "      <td>69.854</td>\n",
       "      <td>70.020</td>\n",
       "      <td>70.180</td>\n",
       "      <td>70.332</td>\n",
       "      <td>70.477</td>\n",
       "      <td>70.615</td>\n",
       "      <td>70.747</td>\n",
       "      <td>70.874</td>\n",
       "      <td>71.000</td>\n",
       "    </tr>\n",
       "    <tr>\n",
       "      <th>Angola</th>\n",
       "      <td>34.604</td>\n",
       "      <td>35.007</td>\n",
       "      <td>35.410</td>\n",
       "      <td>35.816</td>\n",
       "      <td>36.222</td>\n",
       "      <td>36.627</td>\n",
       "      <td>37.032</td>\n",
       "      <td>37.439</td>\n",
       "      <td>37.846</td>\n",
       "      <td>38.247</td>\n",
       "      <td>...</td>\n",
       "      <td>48.036</td>\n",
       "      <td>48.572</td>\n",
       "      <td>49.041</td>\n",
       "      <td>49.471</td>\n",
       "      <td>49.882</td>\n",
       "      <td>50.286</td>\n",
       "      <td>50.689</td>\n",
       "      <td>51.094</td>\n",
       "      <td>51.498</td>\n",
       "      <td>51.899</td>\n",
       "    </tr>\n",
       "    <tr>\n",
       "      <th>Antigua and Barbuda</th>\n",
       "      <td>63.775</td>\n",
       "      <td>64.149</td>\n",
       "      <td>64.511</td>\n",
       "      <td>64.865</td>\n",
       "      <td>65.213</td>\n",
       "      <td>65.558</td>\n",
       "      <td>65.898</td>\n",
       "      <td>66.232</td>\n",
       "      <td>66.558</td>\n",
       "      <td>66.875</td>\n",
       "      <td>...</td>\n",
       "      <td>74.355</td>\n",
       "      <td>74.544</td>\n",
       "      <td>74.729</td>\n",
       "      <td>74.910</td>\n",
       "      <td>75.087</td>\n",
       "      <td>75.263</td>\n",
       "      <td>75.437</td>\n",
       "      <td>75.610</td>\n",
       "      <td>75.783</td>\n",
       "      <td>75.954</td>\n",
       "    </tr>\n",
       "  </tbody>\n",
       "</table>\n",
       "<p>5 rows × 50 columns</p>\n",
       "</div>"
      ],
      "text/plain": [
       "                       1964    1965    1966    1967    1968    1969    1970  \\\n",
       "Country                                                                       \n",
       "Afghanistan          33.639  34.152  34.662  35.170  35.674  36.172  36.663   \n",
       "Albania              65.475  65.863  66.122  66.316  66.500  66.702  66.948   \n",
       "Algeria              47.953  48.389  48.806  49.205  49.592  49.976  50.366   \n",
       "Angola               34.604  35.007  35.410  35.816  36.222  36.627  37.032   \n",
       "Antigua and Barbuda  63.775  64.149  64.511  64.865  65.213  65.558  65.898   \n",
       "\n",
       "                       1971    1972    1973   ...      2004    2005    2006  \\\n",
       "Country                                       ...                             \n",
       "Afghanistan          37.143  37.614  38.075   ...    56.583  57.071  57.582   \n",
       "Albania              67.251  67.595  67.966   ...    75.725  75.949  76.124   \n",
       "Algeria              50.767  51.195  51.670   ...    69.682  69.854  70.020   \n",
       "Angola               37.439  37.846  38.247   ...    48.036  48.572  49.041   \n",
       "Antigua and Barbuda  66.232  66.558  66.875   ...    74.355  74.544  74.729   \n",
       "\n",
       "                       2007    2008    2009    2010    2011    2012    2013  \n",
       "Country                                                                      \n",
       "Afghanistan          58.102  58.618  59.124  59.612  60.079  60.524  60.947  \n",
       "Albania              76.278  76.433  76.598  76.780  76.979  77.185  77.392  \n",
       "Algeria              70.180  70.332  70.477  70.615  70.747  70.874  71.000  \n",
       "Angola               49.471  49.882  50.286  50.689  51.094  51.498  51.899  \n",
       "Antigua and Barbuda  74.910  75.087  75.263  75.437  75.610  75.783  75.954  \n",
       "\n",
       "[5 rows x 50 columns]"
      ]
     },
     "execution_count": 7,
     "metadata": {},
     "output_type": "execute_result"
    }
   ],
   "source": [
    "# Read life_fname into a DataFrame: life\n",
    "life = pd.read_csv('D:/Springboard_DataCamp/data/Manipulating_DataFrames_with_ Pandas/life_expectancy.csv', index_col='Country')\n",
    "life.head()\n",
    "\n"
   ]
  },
  {
   "cell_type": "code",
   "execution_count": 8,
   "metadata": {},
   "outputs": [
    {
     "data": {
      "text/html": [
       "<div>\n",
       "<style scoped>\n",
       "    .dataframe tbody tr th:only-of-type {\n",
       "        vertical-align: middle;\n",
       "    }\n",
       "\n",
       "    .dataframe tbody tr th {\n",
       "        vertical-align: top;\n",
       "    }\n",
       "\n",
       "    .dataframe thead th {\n",
       "        text-align: right;\n",
       "    }\n",
       "</style>\n",
       "<table border=\"1\" class=\"dataframe\">\n",
       "  <thead>\n",
       "    <tr style=\"text-align: right;\">\n",
       "      <th></th>\n",
       "      <th>region</th>\n",
       "    </tr>\n",
       "    <tr>\n",
       "      <th>Country</th>\n",
       "      <th></th>\n",
       "    </tr>\n",
       "  </thead>\n",
       "  <tbody>\n",
       "    <tr>\n",
       "      <th>Afghanistan</th>\n",
       "      <td>South Asia</td>\n",
       "    </tr>\n",
       "    <tr>\n",
       "      <th>Albania</th>\n",
       "      <td>Europe &amp; Central Asia</td>\n",
       "    </tr>\n",
       "    <tr>\n",
       "      <th>Algeria</th>\n",
       "      <td>Middle East &amp; North Africa</td>\n",
       "    </tr>\n",
       "    <tr>\n",
       "      <th>Angola</th>\n",
       "      <td>Sub-Saharan Africa</td>\n",
       "    </tr>\n",
       "    <tr>\n",
       "      <th>Antigua and Barbuda</th>\n",
       "      <td>America</td>\n",
       "    </tr>\n",
       "  </tbody>\n",
       "</table>\n",
       "</div>"
      ],
      "text/plain": [
       "                                         region\n",
       "Country                                        \n",
       "Afghanistan                          South Asia\n",
       "Albania                   Europe & Central Asia\n",
       "Algeria              Middle East & North Africa\n",
       "Angola                       Sub-Saharan Africa\n",
       "Antigua and Barbuda                     America"
      ]
     },
     "execution_count": 8,
     "metadata": {},
     "output_type": "execute_result"
    }
   ],
   "source": [
    "# Read regions_fname into a DataFrame: regions\n",
    "regions = pd.read_csv('D:/Springboard_DataCamp/data/Manipulating_DataFrames_with_ Pandas/regions.csv', index_col='Country')\n",
    "regions.head()"
   ]
  },
  {
   "cell_type": "code",
   "execution_count": 9,
   "metadata": {},
   "outputs": [
    {
     "name": "stdout",
     "output_type": "stream",
     "text": [
      "region\n",
      "America                       74.037350\n",
      "East Asia & Pacific           73.405750\n",
      "Europe & Central Asia         75.656387\n",
      "Middle East & North Africa    72.805333\n",
      "South Asia                    68.189750\n",
      "Sub-Saharan Africa            57.575080\n",
      "Name: 2010, dtype: float64\n"
     ]
    }
   ],
   "source": [
    "# Group life by regions['region']: life_by_region\n",
    "life_by_region = life.groupby(regions['region'])\n",
    "\n",
    "# Print the mean over the '2010' column of life_by_region\n",
    "print(life_by_region['2010'].mean())"
   ]
  },
  {
   "cell_type": "markdown",
   "metadata": {},
   "source": [
    "## Computing multiple aggregates of multiple columns\n",
    "The **`.agg()`** method can be used with a tuple or list of aggregations as input. When applying multiple aggregations on multiple columns, the aggregated DataFrame has a multi-level column index.\n",
    "\n",
    "In this exercise, you're going to group passengers on the Titanic by **`'pclass'`** and aggregate the **`'age'`** and **`'fare'`** columns by the functions **`'max'`** and **`'median'`**. You'll then use multi-level selection to find the oldest passenger per class and the median fare price per class."
   ]
  },
  {
   "cell_type": "code",
   "execution_count": 10,
   "metadata": {},
   "outputs": [],
   "source": [
    "# Group titanic by 'pclass': by_class\n",
    "by_class = titanic.groupby('pclass')\n",
    "\n",
    "# Select 'age' and 'fare'\n",
    "by_class_sub = by_class[['age','fare']]\n",
    "\n",
    "# Aggregate by_class_sub by 'max' and 'median': aggregated\n",
    "aggregated = by_class_sub.agg(['max', 'median'])"
   ]
  },
  {
   "cell_type": "code",
   "execution_count": 11,
   "metadata": {},
   "outputs": [
    {
     "name": "stdout",
     "output_type": "stream",
     "text": [
      "pclass\n",
      "1    80.0\n",
      "2    70.0\n",
      "3    74.0\n",
      "Name: (age, max), dtype: float64\n"
     ]
    }
   ],
   "source": [
    "# Print the maximum age in each class\n",
    "print(aggregated.loc[:, ('age','max')])\n"
   ]
  },
  {
   "cell_type": "code",
   "execution_count": 12,
   "metadata": {},
   "outputs": [
    {
     "name": "stdout",
     "output_type": "stream",
     "text": [
      "pclass\n",
      "1    60.0000\n",
      "2    15.0458\n",
      "3     8.0500\n",
      "Name: (fare, median), dtype: float64\n"
     ]
    }
   ],
   "source": [
    "# Print the median fare in each class\n",
    "print(aggregated.loc[:, ('fare','median')])"
   ]
  },
  {
   "cell_type": "markdown",
   "metadata": {},
   "source": [
    "## Aggregating on index levels/fields\n",
    "If you have a DataFrame with a multi-level row index, the individual levels can be used to perform the groupby. This allows advanced aggregation techniques to be applied along one or more levels in the index and across one or more columns.\n",
    "\n",
    "In this exercise you'll use the full Gapminder dataset which contains yearly values of life expectancy, population, child mortality (per 1,000) and per capita gross domestic product (GDP) for every country in the world from 1964 to 2013.\n",
    "\n",
    "Your job is to create a multi-level DataFrame of the columns **`'Year', 'Region' and 'Country'`**. Next you'll group the DataFrame by the **`'Year'`** and **`'Region'`** levels. Finally, you'll apply a dictionary aggregation to compute the total population, spread of per capita GDP values and average child mortality rate."
   ]
  },
  {
   "cell_type": "code",
   "execution_count": 13,
   "metadata": {},
   "outputs": [
    {
     "data": {
      "text/html": [
       "<div>\n",
       "<style scoped>\n",
       "    .dataframe tbody tr th:only-of-type {\n",
       "        vertical-align: middle;\n",
       "    }\n",
       "\n",
       "    .dataframe tbody tr th {\n",
       "        vertical-align: top;\n",
       "    }\n",
       "\n",
       "    .dataframe thead th {\n",
       "        text-align: right;\n",
       "    }\n",
       "</style>\n",
       "<table border=\"1\" class=\"dataframe\">\n",
       "  <thead>\n",
       "    <tr style=\"text-align: right;\">\n",
       "      <th></th>\n",
       "      <th></th>\n",
       "      <th></th>\n",
       "      <th>fertility</th>\n",
       "      <th>life</th>\n",
       "      <th>population</th>\n",
       "      <th>child_mortality</th>\n",
       "      <th>gdp</th>\n",
       "    </tr>\n",
       "    <tr>\n",
       "      <th>Year</th>\n",
       "      <th>region</th>\n",
       "      <th>Country</th>\n",
       "      <th></th>\n",
       "      <th></th>\n",
       "      <th></th>\n",
       "      <th></th>\n",
       "      <th></th>\n",
       "    </tr>\n",
       "  </thead>\n",
       "  <tbody>\n",
       "    <tr>\n",
       "      <th rowspan=\"5\" valign=\"top\">1964</th>\n",
       "      <th rowspan=\"5\" valign=\"top\">America</th>\n",
       "      <th>Antigua and Barbuda</th>\n",
       "      <td>4.250</td>\n",
       "      <td>63.775</td>\n",
       "      <td>58653.0</td>\n",
       "      <td>72.78</td>\n",
       "      <td>5008.0</td>\n",
       "    </tr>\n",
       "    <tr>\n",
       "      <th>Argentina</th>\n",
       "      <td>3.068</td>\n",
       "      <td>65.388</td>\n",
       "      <td>21966478.0</td>\n",
       "      <td>57.43</td>\n",
       "      <td>8227.0</td>\n",
       "    </tr>\n",
       "    <tr>\n",
       "      <th>Aruba</th>\n",
       "      <td>4.059</td>\n",
       "      <td>67.113</td>\n",
       "      <td>57031.0</td>\n",
       "      <td>NaN</td>\n",
       "      <td>5505.0</td>\n",
       "    </tr>\n",
       "    <tr>\n",
       "      <th>Bahamas</th>\n",
       "      <td>4.220</td>\n",
       "      <td>64.189</td>\n",
       "      <td>133709.0</td>\n",
       "      <td>48.56</td>\n",
       "      <td>18160.0</td>\n",
       "    </tr>\n",
       "    <tr>\n",
       "      <th>Barbados</th>\n",
       "      <td>4.094</td>\n",
       "      <td>62.819</td>\n",
       "      <td>234455.0</td>\n",
       "      <td>64.70</td>\n",
       "      <td>5681.0</td>\n",
       "    </tr>\n",
       "  </tbody>\n",
       "</table>\n",
       "</div>"
      ],
      "text/plain": [
       "                                  fertility    life  population  \\\n",
       "Year region  Country                                              \n",
       "1964 America Antigua and Barbuda      4.250  63.775     58653.0   \n",
       "             Argentina                3.068  65.388  21966478.0   \n",
       "             Aruba                    4.059  67.113     57031.0   \n",
       "             Bahamas                  4.220  64.189    133709.0   \n",
       "             Barbados                 4.094  62.819    234455.0   \n",
       "\n",
       "                                  child_mortality      gdp  \n",
       "Year region  Country                                        \n",
       "1964 America Antigua and Barbuda            72.78   5008.0  \n",
       "             Argentina                      57.43   8227.0  \n",
       "             Aruba                            NaN   5505.0  \n",
       "             Bahamas                        48.56  18160.0  \n",
       "             Barbados                       64.70   5681.0  "
      ]
     },
     "execution_count": 13,
     "metadata": {},
     "output_type": "execute_result"
    }
   ],
   "source": [
    "# Read the CSV file into a DataFrame and sort the index: gapminder\n",
    "gapminder = pd.read_csv('D:/Springboard_DataCamp/data/Manipulating_DataFrames_with_ Pandas/gapminder_tidy.csv', index_col=['Year', 'region','Country'])\n",
    "gapminder = gapminder.sort_index()\n",
    "gapminder.head()"
   ]
  },
  {
   "cell_type": "code",
   "execution_count": 14,
   "metadata": {},
   "outputs": [
    {
     "name": "stdout",
     "output_type": "stream",
     "text": [
      "                                   population  child_mortality       gdp\n",
      "Year region                                                             \n",
      "2013 America                     9.629087e+08        17.745833   49634.0\n",
      "     East Asia & Pacific         2.244209e+09        22.285714  134744.0\n",
      "     Europe & Central Asia       8.968788e+08         9.831875   86418.0\n",
      "     Middle East & North Africa  4.030504e+08        20.221500  128676.0\n",
      "     South Asia                  1.701241e+09        46.287500   11469.0\n",
      "     Sub-Saharan Africa          9.205996e+08        76.944490   32035.0\n"
     ]
    }
   ],
   "source": [
    "# Group gapminder by 'Year' and 'region': by_year_region\n",
    "by_year_region = gapminder.groupby(level=['Year','region'])\n",
    "\n",
    "# Define the function to compute spread: spread\n",
    "def spread(series):\n",
    "    return series.max() - series.min()\n",
    "\n",
    "# Create the dictionary: aggregator\n",
    "aggregator = {'population':'sum', 'child_mortality':'mean', 'gdp':spread}\n",
    "\n",
    "# Aggregate by_year_region using the dictionary: aggregated\n",
    "aggregated = by_year_region.agg(aggregator)\n",
    "\n",
    "# Print the last 6 entries of aggregated \n",
    "print(aggregated.tail(6))"
   ]
  },
  {
   "cell_type": "markdown",
   "metadata": {},
   "source": [
    "## Grouping on a function of the index\n",
    "Groupby operations can also be performed on transformations of the index values. In the case of a DateTimeIndex, we can extract portions of the datetime over which to group.\n",
    "\n",
    "In this exercise you'll read in a set of sample sales data from February 2015 and assign the **`'Date'`** column as the index. Your job is to group the sales data by the day of the week and aggregate the sum of the **`'Units'`** column.\n",
    "\n",
    "Is there a day of the week that is more popular for customers? To find out, you're going to use **`.strftime('%a')`** to transform the index datetime values to abbreviated days of the week."
   ]
  },
  {
   "cell_type": "code",
   "execution_count": 15,
   "metadata": {},
   "outputs": [
    {
     "data": {
      "text/html": [
       "<div>\n",
       "<style scoped>\n",
       "    .dataframe tbody tr th:only-of-type {\n",
       "        vertical-align: middle;\n",
       "    }\n",
       "\n",
       "    .dataframe tbody tr th {\n",
       "        vertical-align: top;\n",
       "    }\n",
       "\n",
       "    .dataframe thead th {\n",
       "        text-align: right;\n",
       "    }\n",
       "</style>\n",
       "<table border=\"1\" class=\"dataframe\">\n",
       "  <thead>\n",
       "    <tr style=\"text-align: right;\">\n",
       "      <th></th>\n",
       "      <th>Company</th>\n",
       "      <th>Product</th>\n",
       "      <th>Units</th>\n",
       "    </tr>\n",
       "    <tr>\n",
       "      <th>Date</th>\n",
       "      <th></th>\n",
       "      <th></th>\n",
       "      <th></th>\n",
       "    </tr>\n",
       "  </thead>\n",
       "  <tbody>\n",
       "    <tr>\n",
       "      <th>2015-02-02 08:30:00</th>\n",
       "      <td>Hooli</td>\n",
       "      <td>Software</td>\n",
       "      <td>3</td>\n",
       "    </tr>\n",
       "    <tr>\n",
       "      <th>2015-02-02 21:00:00</th>\n",
       "      <td>Mediacore</td>\n",
       "      <td>Hardware</td>\n",
       "      <td>9</td>\n",
       "    </tr>\n",
       "    <tr>\n",
       "      <th>2015-02-03 14:00:00</th>\n",
       "      <td>Initech</td>\n",
       "      <td>Software</td>\n",
       "      <td>13</td>\n",
       "    </tr>\n",
       "    <tr>\n",
       "      <th>2015-02-04 15:30:00</th>\n",
       "      <td>Streeplex</td>\n",
       "      <td>Software</td>\n",
       "      <td>13</td>\n",
       "    </tr>\n",
       "    <tr>\n",
       "      <th>2015-02-04 22:00:00</th>\n",
       "      <td>Acme Coporation</td>\n",
       "      <td>Hardware</td>\n",
       "      <td>14</td>\n",
       "    </tr>\n",
       "  </tbody>\n",
       "</table>\n",
       "</div>"
      ],
      "text/plain": [
       "                             Company   Product  Units\n",
       "Date                                                 \n",
       "2015-02-02 08:30:00            Hooli  Software      3\n",
       "2015-02-02 21:00:00        Mediacore  Hardware      9\n",
       "2015-02-03 14:00:00          Initech  Software     13\n",
       "2015-02-04 15:30:00        Streeplex  Software     13\n",
       "2015-02-04 22:00:00  Acme Coporation  Hardware     14"
      ]
     },
     "execution_count": 15,
     "metadata": {},
     "output_type": "execute_result"
    }
   ],
   "source": [
    "# Read file: sales\n",
    "sales = pd.read_csv('D:/Springboard_DataCamp/data/Manipulating_DataFrames_with_ Pandas/sales/sales-feb-2015.csv', \n",
    "                    index_col='Date', parse_dates=True)\n",
    "sales.head()"
   ]
  },
  {
   "cell_type": "code",
   "execution_count": 16,
   "metadata": {},
   "outputs": [
    {
     "data": {
      "text/plain": [
       "Mon    48\n",
       "Sat     7\n",
       "Thu    59\n",
       "Tue    13\n",
       "Wed    48\n",
       "Name: Units, dtype: int64"
      ]
     },
     "execution_count": 16,
     "metadata": {},
     "output_type": "execute_result"
    }
   ],
   "source": [
    "# Create a groupby object: by_day\n",
    "by_day = sales.groupby(sales.index.strftime('%a'))\n",
    "\n",
    "# Create sum: units_sum\n",
    "units_sum = by_day['Units'].sum()\n",
    "units_sum"
   ]
  },
  {
   "cell_type": "markdown",
   "metadata": {},
   "source": [
    "## Detecting outliers with Z-Scores\n",
    "Using the zscore function, you can apply a **`.transform()`** method after grouping to apply a function to groups of data independently. The z-score is also useful to find outliers: a z-score value of +/- 3 is generally considered to be an outlier.\n",
    "\n",
    "In this example, you're going to normalize the Gapminder data in 2010 for life expectancy and fertility by the *z-score per region*. Using boolean indexing, you will filter out countries that have high fertility rates and low life expectancy for their region."
   ]
  },
  {
   "cell_type": "code",
   "execution_count": 17,
   "metadata": {},
   "outputs": [
    {
     "data": {
      "text/html": [
       "<div>\n",
       "<style scoped>\n",
       "    .dataframe tbody tr th:only-of-type {\n",
       "        vertical-align: middle;\n",
       "    }\n",
       "\n",
       "    .dataframe tbody tr th {\n",
       "        vertical-align: top;\n",
       "    }\n",
       "\n",
       "    .dataframe thead th {\n",
       "        text-align: right;\n",
       "    }\n",
       "</style>\n",
       "<table border=\"1\" class=\"dataframe\">\n",
       "  <thead>\n",
       "    <tr style=\"text-align: right;\">\n",
       "      <th></th>\n",
       "      <th>Year</th>\n",
       "      <th>fertility</th>\n",
       "      <th>life</th>\n",
       "      <th>population</th>\n",
       "      <th>child_mortality</th>\n",
       "      <th>gdp</th>\n",
       "      <th>region</th>\n",
       "    </tr>\n",
       "    <tr>\n",
       "      <th>Country</th>\n",
       "      <th></th>\n",
       "      <th></th>\n",
       "      <th></th>\n",
       "      <th></th>\n",
       "      <th></th>\n",
       "      <th></th>\n",
       "      <th></th>\n",
       "    </tr>\n",
       "  </thead>\n",
       "  <tbody>\n",
       "    <tr>\n",
       "      <th>Afghanistan</th>\n",
       "      <td>2010</td>\n",
       "      <td>5.659</td>\n",
       "      <td>59.612</td>\n",
       "      <td>31411743.0</td>\n",
       "      <td>105.0</td>\n",
       "      <td>1637.0</td>\n",
       "      <td>South Asia</td>\n",
       "    </tr>\n",
       "    <tr>\n",
       "      <th>Albania</th>\n",
       "      <td>2010</td>\n",
       "      <td>1.741</td>\n",
       "      <td>76.780</td>\n",
       "      <td>3204284.0</td>\n",
       "      <td>16.6</td>\n",
       "      <td>9374.0</td>\n",
       "      <td>Europe &amp; Central Asia</td>\n",
       "    </tr>\n",
       "    <tr>\n",
       "      <th>Algeria</th>\n",
       "      <td>2010</td>\n",
       "      <td>2.817</td>\n",
       "      <td>70.615</td>\n",
       "      <td>35468208.0</td>\n",
       "      <td>27.4</td>\n",
       "      <td>12494.0</td>\n",
       "      <td>Middle East &amp; North Africa</td>\n",
       "    </tr>\n",
       "    <tr>\n",
       "      <th>Angola</th>\n",
       "      <td>2010</td>\n",
       "      <td>6.218</td>\n",
       "      <td>50.689</td>\n",
       "      <td>19081912.0</td>\n",
       "      <td>182.5</td>\n",
       "      <td>7047.0</td>\n",
       "      <td>Sub-Saharan Africa</td>\n",
       "    </tr>\n",
       "    <tr>\n",
       "      <th>Antigua and Barbuda</th>\n",
       "      <td>2010</td>\n",
       "      <td>2.130</td>\n",
       "      <td>75.437</td>\n",
       "      <td>88710.0</td>\n",
       "      <td>9.9</td>\n",
       "      <td>20567.0</td>\n",
       "      <td>America</td>\n",
       "    </tr>\n",
       "  </tbody>\n",
       "</table>\n",
       "</div>"
      ],
      "text/plain": [
       "                     Year  fertility    life  population  child_mortality  \\\n",
       "Country                                                                     \n",
       "Afghanistan          2010      5.659  59.612  31411743.0            105.0   \n",
       "Albania              2010      1.741  76.780   3204284.0             16.6   \n",
       "Algeria              2010      2.817  70.615  35468208.0             27.4   \n",
       "Angola               2010      6.218  50.689  19081912.0            182.5   \n",
       "Antigua and Barbuda  2010      2.130  75.437     88710.0              9.9   \n",
       "\n",
       "                         gdp                      region  \n",
       "Country                                                   \n",
       "Afghanistan           1637.0                  South Asia  \n",
       "Albania               9374.0       Europe & Central Asia  \n",
       "Algeria              12494.0  Middle East & North Africa  \n",
       "Angola                7047.0          Sub-Saharan Africa  \n",
       "Antigua and Barbuda  20567.0                     America  "
      ]
     },
     "execution_count": 17,
     "metadata": {},
     "output_type": "execute_result"
    }
   ],
   "source": [
    "gapminder = pd.read_csv('D:/Springboard_DataCamp/data/Manipulating_DataFrames_with_ Pandas/gapminder_tidy.csv', \n",
    "                        index_col=['Country'])\n",
    "is_2010 = gapminder['Year'] == 2010\n",
    "gapminder_2010 = gapminder[is_2010]\n",
    "\n",
    "gapminder_2010.head()"
   ]
  },
  {
   "cell_type": "code",
   "execution_count": 18,
   "metadata": {},
   "outputs": [
    {
     "data": {
      "text/html": [
       "<div>\n",
       "<style scoped>\n",
       "    .dataframe tbody tr th:only-of-type {\n",
       "        vertical-align: middle;\n",
       "    }\n",
       "\n",
       "    .dataframe tbody tr th {\n",
       "        vertical-align: top;\n",
       "    }\n",
       "\n",
       "    .dataframe thead th {\n",
       "        text-align: right;\n",
       "    }\n",
       "</style>\n",
       "<table border=\"1\" class=\"dataframe\">\n",
       "  <thead>\n",
       "    <tr style=\"text-align: right;\">\n",
       "      <th></th>\n",
       "      <th>Year</th>\n",
       "      <th>fertility</th>\n",
       "      <th>life</th>\n",
       "      <th>population</th>\n",
       "      <th>child_mortality</th>\n",
       "      <th>gdp</th>\n",
       "      <th>region</th>\n",
       "    </tr>\n",
       "    <tr>\n",
       "      <th>Country</th>\n",
       "      <th></th>\n",
       "      <th></th>\n",
       "      <th></th>\n",
       "      <th></th>\n",
       "      <th></th>\n",
       "      <th></th>\n",
       "      <th></th>\n",
       "    </tr>\n",
       "  </thead>\n",
       "  <tbody>\n",
       "    <tr>\n",
       "      <th>Guatemala</th>\n",
       "      <td>2010</td>\n",
       "      <td>3.974</td>\n",
       "      <td>71.100</td>\n",
       "      <td>14388929.0</td>\n",
       "      <td>34.5</td>\n",
       "      <td>6849.0</td>\n",
       "      <td>America</td>\n",
       "    </tr>\n",
       "    <tr>\n",
       "      <th>Haiti</th>\n",
       "      <td>2010</td>\n",
       "      <td>3.350</td>\n",
       "      <td>45.000</td>\n",
       "      <td>9993247.0</td>\n",
       "      <td>208.8</td>\n",
       "      <td>1518.0</td>\n",
       "      <td>America</td>\n",
       "    </tr>\n",
       "    <tr>\n",
       "      <th>Tajikistan</th>\n",
       "      <td>2010</td>\n",
       "      <td>3.780</td>\n",
       "      <td>66.830</td>\n",
       "      <td>6878637.0</td>\n",
       "      <td>52.6</td>\n",
       "      <td>2110.0</td>\n",
       "      <td>Europe &amp; Central Asia</td>\n",
       "    </tr>\n",
       "    <tr>\n",
       "      <th>Timor-Leste</th>\n",
       "      <td>2010</td>\n",
       "      <td>6.237</td>\n",
       "      <td>65.952</td>\n",
       "      <td>1124355.0</td>\n",
       "      <td>63.8</td>\n",
       "      <td>1777.0</td>\n",
       "      <td>East Asia &amp; Pacific</td>\n",
       "    </tr>\n",
       "  </tbody>\n",
       "</table>\n",
       "</div>"
      ],
      "text/plain": [
       "             Year  fertility    life  population  child_mortality     gdp  \\\n",
       "Country                                                                     \n",
       "Guatemala    2010      3.974  71.100  14388929.0             34.5  6849.0   \n",
       "Haiti        2010      3.350  45.000   9993247.0            208.8  1518.0   \n",
       "Tajikistan   2010      3.780  66.830   6878637.0             52.6  2110.0   \n",
       "Timor-Leste  2010      6.237  65.952   1124355.0             63.8  1777.0   \n",
       "\n",
       "                            region  \n",
       "Country                             \n",
       "Guatemala                  America  \n",
       "Haiti                      America  \n",
       "Tajikistan   Europe & Central Asia  \n",
       "Timor-Leste    East Asia & Pacific  "
      ]
     },
     "execution_count": 18,
     "metadata": {},
     "output_type": "execute_result"
    }
   ],
   "source": [
    "# Import zscore\n",
    "from scipy.stats import zscore\n",
    "\n",
    "# Group gapminder_2010: standardized\n",
    "standardized = gapminder_2010.groupby('region')['life','fertility'].transform(zscore)\n",
    "\n",
    "# Construct a Boolean Series to identify outliers: outliers\n",
    "outliers = (standardized['life'] < -3) | (standardized['fertility'] > 3)\n",
    "\n",
    "# Filter gapminder_2010 by the outliers: gm_outliers\n",
    "gm_outliers = gapminder_2010.loc[outliers]\n",
    "\n",
    "# Print gm_outliers\n",
    "gm_outliers"
   ]
  },
  {
   "cell_type": "markdown",
   "metadata": {},
   "source": [
    "## Filling missing data (imputation) by group\n",
    "Many statistical and machine learning packages cannot determine the best action to take when missing data entries are encountered. Dealing with missing data is natural in pandas (both in using the default behavior and in defining a custom behavior). In Chapter 1, you practiced using the **`.dropna()`** method to drop missing values. \n",
    "\n",
    "Now, you will practice imputing missing values. You can use **`.groupby()`** and **`.transform()`** to fill missing data appropriately for each group.\n",
    "\n",
    "Your job is to fill in missing **`'age'`** values for passengers on the Titanic with the median age from their **`'gender'`** and **`'pclass'`**. To do this, you'll group by the **`'sex'`** and **`'pclass'`** columns and transform each group with a custom function to call **`.fillna()`** and impute the median value."
   ]
  },
  {
   "cell_type": "code",
   "execution_count": 20,
   "metadata": {},
   "outputs": [
    {
     "name": "stdout",
     "output_type": "stream",
     "text": [
      "<class 'pandas.core.frame.DataFrame'>\n",
      "RangeIndex: 1309 entries, 0 to 1308\n",
      "Data columns (total 14 columns):\n",
      "pclass       1309 non-null int64\n",
      "survived     1309 non-null int64\n",
      "name         1309 non-null object\n",
      "sex          1309 non-null object\n",
      "age          1046 non-null float64\n",
      "sibsp        1309 non-null int64\n",
      "parch        1309 non-null int64\n",
      "ticket       1309 non-null object\n",
      "fare         1308 non-null float64\n",
      "cabin        295 non-null object\n",
      "embarked     1307 non-null object\n",
      "boat         486 non-null object\n",
      "body         121 non-null float64\n",
      "home.dest    745 non-null object\n",
      "dtypes: float64(3), int64(4), object(7)\n",
      "memory usage: 143.2+ KB\n"
     ]
    }
   ],
   "source": [
    "titanic.info()\n",
    "# notice 255 NaN's in the Age col"
   ]
  },
  {
   "cell_type": "code",
   "execution_count": 22,
   "metadata": {},
   "outputs": [],
   "source": [
    "# Create a groupby object: by_sex_class\n",
    "by_sex_class = titanic.groupby(['sex', 'pclass'])\n",
    "\n",
    "# Write a function that imputes median\n",
    "def impute_median(series):\n",
    "    return series.fillna(series.median())"
   ]
  },
  {
   "cell_type": "code",
   "execution_count": 23,
   "metadata": {},
   "outputs": [
    {
     "name": "stdout",
     "output_type": "stream",
     "text": [
      "<class 'pandas.core.frame.DataFrame'>\n",
      "RangeIndex: 1309 entries, 0 to 1308\n",
      "Data columns (total 14 columns):\n",
      "pclass       1309 non-null int64\n",
      "survived     1309 non-null int64\n",
      "name         1309 non-null object\n",
      "sex          1309 non-null object\n",
      "age          1309 non-null float64\n",
      "sibsp        1309 non-null int64\n",
      "parch        1309 non-null int64\n",
      "ticket       1309 non-null object\n",
      "fare         1308 non-null float64\n",
      "cabin        295 non-null object\n",
      "embarked     1307 non-null object\n",
      "boat         486 non-null object\n",
      "body         121 non-null float64\n",
      "home.dest    745 non-null object\n",
      "dtypes: float64(3), int64(4), object(7)\n",
      "memory usage: 143.2+ KB\n"
     ]
    }
   ],
   "source": [
    "# Impute age and assign to titanic['age']\n",
    "titanic.age = by_sex_class['age'].transform(impute_median)\n",
    "\n",
    "titanic.info()\n",
    "# All the NaN's in Age col have been filled with the median value by sex and passenger class"
   ]
  },
  {
   "cell_type": "markdown",
   "metadata": {},
   "source": [
    "## Other transformations with .apply\n",
    "The **`.apply()`** method when used on a groupby object performs an arbitrary function on each of the groups. These functions can be aggregations, transformations or more complex workflows. The **`.apply()`** method will then combine the results in an intelligent way.\n",
    "\n",
    "In this exercise, you're going to analyze economic disparity within regions of the world using the Gapminder data set for 2010. To do this you'll define a function to compute the aggregate spread of per capita GDP in each region and the individual country's z-score of the regional per capita GDP. \n",
    "\n",
    "You'll then select three countries - United States, Great Britain and China - to see a summary of the regional GDP and that country's z-score against the regional mean."
   ]
  },
  {
   "cell_type": "code",
   "execution_count": 26,
   "metadata": {},
   "outputs": [],
   "source": [
    "# defining the desparity function\n",
    "def disparity(gr):\n",
    "    # Compute the spread of gr['gdp']: s\n",
    "    s = gr['gdp'].max() - gr['gdp'].min()\n",
    "    # Compute the z-score of gr['gdp'] as (gr['gdp']-gr['gdp'].mean())/gr['gdp'].std(): z\n",
    "    z = (gr['gdp'] - gr['gdp'].mean())/gr['gdp'].std()\n",
    "    # Return a DataFrame with the inputs {'z(gdp)':z, 'regional spread(gdp)':s}\n",
    "    return pd.DataFrame({'z(gdp)':z , 'regional spread(gdp)':s})"
   ]
  },
  {
   "cell_type": "code",
   "execution_count": 27,
   "metadata": {},
   "outputs": [
    {
     "data": {
      "text/html": [
       "<div>\n",
       "<style scoped>\n",
       "    .dataframe tbody tr th:only-of-type {\n",
       "        vertical-align: middle;\n",
       "    }\n",
       "\n",
       "    .dataframe tbody tr th {\n",
       "        vertical-align: top;\n",
       "    }\n",
       "\n",
       "    .dataframe thead th {\n",
       "        text-align: right;\n",
       "    }\n",
       "</style>\n",
       "<table border=\"1\" class=\"dataframe\">\n",
       "  <thead>\n",
       "    <tr style=\"text-align: right;\">\n",
       "      <th></th>\n",
       "      <th>z(gdp)</th>\n",
       "      <th>regional spread(gdp)</th>\n",
       "    </tr>\n",
       "    <tr>\n",
       "      <th>Country</th>\n",
       "      <th></th>\n",
       "      <th></th>\n",
       "    </tr>\n",
       "  </thead>\n",
       "  <tbody>\n",
       "    <tr>\n",
       "      <th>United States</th>\n",
       "      <td>3.013374</td>\n",
       "      <td>47855.0</td>\n",
       "    </tr>\n",
       "    <tr>\n",
       "      <th>United Kingdom</th>\n",
       "      <td>0.572873</td>\n",
       "      <td>89037.0</td>\n",
       "    </tr>\n",
       "    <tr>\n",
       "      <th>China</th>\n",
       "      <td>-0.432756</td>\n",
       "      <td>96993.0</td>\n",
       "    </tr>\n",
       "  </tbody>\n",
       "</table>\n",
       "</div>"
      ],
      "text/plain": [
       "                  z(gdp)  regional spread(gdp)\n",
       "Country                                       \n",
       "United States   3.013374               47855.0\n",
       "United Kingdom  0.572873               89037.0\n",
       "China          -0.432756               96993.0"
      ]
     },
     "execution_count": 27,
     "metadata": {},
     "output_type": "execute_result"
    }
   ],
   "source": [
    "# Group gapminder_2010 by 'region': regional\n",
    "regional = gapminder_2010.groupby('region')\n",
    "\n",
    "# Apply the disparity function on regional: reg_disp\n",
    "reg_disp = regional.apply(disparity)\n",
    "\n",
    "# Print the disparity of 'United States', 'United Kingdom', and 'China'\n",
    "reg_disp.loc[['United States','United Kingdom','China']]"
   ]
  },
  {
   "cell_type": "markdown",
   "metadata": {},
   "source": [
    "## Grouping and filtering with .apply()\n",
    "By using **`.apply()`**, you can write functions that filter rows within groups. The **`.apply()`** method will handle the iteration over individual groups and then re-combine them back into a Series or DataFrame.\n",
    "\n",
    "In this exercise you'll take the Titanic data set and analyze survival rates from the **'C'** deck, which contained the most passengers. To do this you'll group the dataset by **`'sex'`** and then use the **`.apply()`** method on a provided user defined function which calculates the mean survival rates on the **'C'** deck:"
   ]
  },
  {
   "cell_type": "code",
   "execution_count": 28,
   "metadata": {},
   "outputs": [],
   "source": [
    "def c_deck_survival(gr):\n",
    "\n",
    "    c_passengers = gr['cabin'].str.startswith('C').fillna(False)\n",
    "\n",
    "    return gr.loc[c_passengers, 'survived'].mean()"
   ]
  },
  {
   "cell_type": "code",
   "execution_count": 29,
   "metadata": {},
   "outputs": [
    {
     "data": {
      "text/plain": [
       "sex\n",
       "female    0.913043\n",
       "male      0.312500\n",
       "dtype: float64"
      ]
     },
     "execution_count": 29,
     "metadata": {},
     "output_type": "execute_result"
    }
   ],
   "source": [
    "# Create a groupby object using titanic over the 'sex' column: by_sex\n",
    "by_sex = titanic.groupby('sex')\n",
    "\n",
    "# Call by_sex.apply with the function c_deck_survival\n",
    "c_surv_by_sex = by_sex.apply(c_deck_survival)\n",
    "\n",
    "c_surv_by_sex"
   ]
  },
  {
   "cell_type": "markdown",
   "metadata": {},
   "source": [
    "## Grouping and filtering with .filter()\n",
    "You can use groupby with the **`.filter()`** method to remove whole groups of rows from a DataFrame based on a boolean condition.\n",
    "\n",
    "In this exercise, you'll take the February sales data and remove entries from companies that purchased less than or equal to 35 Units in the whole month.\n",
    "\n",
    "First, you'll identify how many units each company bought for verification. Next you'll use the **`.filter()`** method after grouping by **`'Company'`** to remove all rows belonging to companies whose sum over the **`'Units'`** column was less than or equal to 35. Finally, verify that the three companies whose total Units purchased were less than or equal to 35 have been filtered out from the DataFrame."
   ]
  },
  {
   "cell_type": "code",
   "execution_count": 31,
   "metadata": {},
   "outputs": [
    {
     "data": {
      "text/html": [
       "<div>\n",
       "<style scoped>\n",
       "    .dataframe tbody tr th:only-of-type {\n",
       "        vertical-align: middle;\n",
       "    }\n",
       "\n",
       "    .dataframe tbody tr th {\n",
       "        vertical-align: top;\n",
       "    }\n",
       "\n",
       "    .dataframe thead th {\n",
       "        text-align: right;\n",
       "    }\n",
       "</style>\n",
       "<table border=\"1\" class=\"dataframe\">\n",
       "  <thead>\n",
       "    <tr style=\"text-align: right;\">\n",
       "      <th></th>\n",
       "      <th>Company</th>\n",
       "      <th>Product</th>\n",
       "      <th>Units</th>\n",
       "    </tr>\n",
       "    <tr>\n",
       "      <th>Date</th>\n",
       "      <th></th>\n",
       "      <th></th>\n",
       "      <th></th>\n",
       "    </tr>\n",
       "  </thead>\n",
       "  <tbody>\n",
       "    <tr>\n",
       "      <th>2015-02-02 08:30:00</th>\n",
       "      <td>Hooli</td>\n",
       "      <td>Software</td>\n",
       "      <td>3</td>\n",
       "    </tr>\n",
       "    <tr>\n",
       "      <th>2015-02-02 21:00:00</th>\n",
       "      <td>Mediacore</td>\n",
       "      <td>Hardware</td>\n",
       "      <td>9</td>\n",
       "    </tr>\n",
       "    <tr>\n",
       "      <th>2015-02-03 14:00:00</th>\n",
       "      <td>Initech</td>\n",
       "      <td>Software</td>\n",
       "      <td>13</td>\n",
       "    </tr>\n",
       "    <tr>\n",
       "      <th>2015-02-04 15:30:00</th>\n",
       "      <td>Streeplex</td>\n",
       "      <td>Software</td>\n",
       "      <td>13</td>\n",
       "    </tr>\n",
       "    <tr>\n",
       "      <th>2015-02-04 22:00:00</th>\n",
       "      <td>Acme Coporation</td>\n",
       "      <td>Hardware</td>\n",
       "      <td>14</td>\n",
       "    </tr>\n",
       "  </tbody>\n",
       "</table>\n",
       "</div>"
      ],
      "text/plain": [
       "                             Company   Product  Units\n",
       "Date                                                 \n",
       "2015-02-02 08:30:00            Hooli  Software      3\n",
       "2015-02-02 21:00:00        Mediacore  Hardware      9\n",
       "2015-02-03 14:00:00          Initech  Software     13\n",
       "2015-02-04 15:30:00        Streeplex  Software     13\n",
       "2015-02-04 22:00:00  Acme Coporation  Hardware     14"
      ]
     },
     "execution_count": 31,
     "metadata": {},
     "output_type": "execute_result"
    }
   ],
   "source": [
    "sales.head()"
   ]
  },
  {
   "cell_type": "code",
   "execution_count": 32,
   "metadata": {},
   "outputs": [
    {
     "data": {
      "text/plain": [
       "Company\n",
       "Acme Coporation    34\n",
       "Hooli              30\n",
       "Initech            30\n",
       "Mediacore          45\n",
       "Streeplex          36\n",
       "Name: Units, dtype: int64"
      ]
     },
     "execution_count": 32,
     "metadata": {},
     "output_type": "execute_result"
    }
   ],
   "source": [
    "# Group sales by 'Company': by_company\n",
    "by_company = sales.groupby('Company')\n",
    "\n",
    "# Compute the sum of the 'Units' of by_company: by_com_sum\n",
    "by_com_sum = by_company.Units.sum()\n",
    "by_com_sum"
   ]
  },
  {
   "cell_type": "code",
   "execution_count": 33,
   "metadata": {},
   "outputs": [
    {
     "name": "stdout",
     "output_type": "stream",
     "text": [
      "                       Company   Product  Units\n",
      "Date                                           \n",
      "2015-02-02 21:00:00  Mediacore  Hardware      9\n",
      "2015-02-04 15:30:00  Streeplex  Software     13\n",
      "2015-02-09 09:00:00  Streeplex   Service     19\n",
      "2015-02-09 13:00:00  Mediacore  Software      7\n",
      "2015-02-19 11:00:00  Mediacore  Hardware     16\n",
      "2015-02-19 16:00:00  Mediacore   Service     10\n",
      "2015-02-21 05:00:00  Mediacore  Software      3\n",
      "2015-02-26 09:00:00  Streeplex   Service      4\n"
     ]
    }
   ],
   "source": [
    "# Filter 'Units' where the sum is > 35: by_com_filt\n",
    "by_com_filt = by_company.filter(lambda g: g['Units'].sum() > 35)\n",
    "print(by_com_filt)"
   ]
  },
  {
   "cell_type": "markdown",
   "metadata": {},
   "source": [
    "## Filtering and grouping with .map()\n",
    "You have seen how to group by a column, or by multiple columns. Sometimes, you may instead want to group by a function/transformation of a column. The key here is that the Series is indexed the same way as the DataFrame. You can also mix and match column grouping with Series grouping.\n",
    "\n",
    "In this exercise your job is to investigate survival rates of passengers on the Titanic by **`'age'`** and **`'pclass'`**. In particular, the goal is to find out what fraction of children under 10 survived in each **`'pclass'`**. \n",
    "\n",
    "You'll do this by first creating a boolean array where True is passengers under 10 years old and False is passengers over 10. You'll use **`.map()`** to change these values to strings.\n",
    "\n",
    "Finally, you'll group by the under 10 series and the **`'pclass'`** column and aggregate the **`'survived'`** column. The **`'survived'`** column has the value 1 if the passenger survived and 0 otherwise. The mean of the **`'survived'`** column is the fraction of passengers who lived."
   ]
  },
  {
   "cell_type": "code",
   "execution_count": 34,
   "metadata": {},
   "outputs": [
    {
     "name": "stdout",
     "output_type": "stream",
     "text": [
      "age\n",
      "over 10     0.366748\n",
      "under 10    0.609756\n",
      "Name: survived, dtype: float64\n",
      "age       pclass\n",
      "over 10   1         0.617555\n",
      "          2         0.380392\n",
      "          3         0.238897\n",
      "under 10  1         0.750000\n",
      "          2         1.000000\n",
      "          3         0.446429\n",
      "Name: survived, dtype: float64\n"
     ]
    }
   ],
   "source": [
    "# Create the Boolean Series: under10\n",
    "under10 = (titanic['age']<10).map({True:'under 10', False:'over 10'})\n",
    "\n",
    "# Group by under10 and compute the survival rate\n",
    "survived_mean_1 = titanic.groupby(under10)['survived'].mean()\n",
    "print(survived_mean_1)\n",
    "\n",
    "# Group by under10 and pclass and compute the survival rate\n",
    "survived_mean_2 = titanic.groupby([under10,'pclass'])['survived'].mean()\n",
    "print(survived_mean_2)"
   ]
  },
  {
   "cell_type": "code",
   "execution_count": null,
   "metadata": {},
   "outputs": [],
   "source": []
  }
 ],
 "metadata": {
  "kernelspec": {
   "display_name": "Python 3",
   "language": "python",
   "name": "python3"
  },
  "language_info": {
   "codemirror_mode": {
    "name": "ipython",
    "version": 3
   },
   "file_extension": ".py",
   "mimetype": "text/x-python",
   "name": "python",
   "nbconvert_exporter": "python",
   "pygments_lexer": "ipython3",
   "version": "3.6.4"
  }
 },
 "nbformat": 4,
 "nbformat_minor": 2
}
